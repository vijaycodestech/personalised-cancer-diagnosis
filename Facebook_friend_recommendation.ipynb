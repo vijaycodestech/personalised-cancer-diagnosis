{
  "nbformat": 4,
  "nbformat_minor": 0,
  "metadata": {
    "colab": {
      "name": "fb_assign.ipynb",
      "provenance": [],
      "mount_file_id": "1xIvJOCrGyed0teUWQrvgqD-UdqgCTQnn",
      "authorship_tag": "ABX9TyNs6fTB68f//6nvt+/AO0rt",
      "include_colab_link": true
    },
    "kernelspec": {
      "name": "python3",
      "display_name": "Python 3"
    },
    "language_info": {
      "name": "python"
    }
  },
  "cells": [
    {
      "cell_type": "markdown",
      "metadata": {
        "id": "view-in-github",
        "colab_type": "text"
      },
      "source": [
        "<a href=\"https://colab.research.google.com/github/prakash8096/AdminDashboard/blob/master/Facebook_friend_recommendation.ipynb\" target=\"_parent\"><img src=\"https://colab.research.google.com/assets/colab-badge.svg\" alt=\"Open In Colab\"/></a>"
      ]
    },
    {
      "cell_type": "code",
      "metadata": {
        "id": "Od2Fqs5BXgbl"
      },
      "source": [
        "import pandas as pd\n",
        "import numpy as np\n"
      ],
      "execution_count": null,
      "outputs": []
    },
    {
      "cell_type": "code",
      "metadata": {
        "colab": {
          "base_uri": "https://localhost:8080/"
        },
        "id": "E3iwBFuSwvuT",
        "outputId": "7d75410e-d768-4c5d-94b4-110a98b99dd7"
      },
      "source": [
        "cd .."
      ],
      "execution_count": null,
      "outputs": [
        {
          "output_type": "stream",
          "text": [
            "/content/drive/My Drive/Facebook-20210205T040830Z-001/Facebook\n"
          ],
          "name": "stdout"
        }
      ]
    },
    {
      "cell_type": "code",
      "metadata": {
        "colab": {
          "base_uri": "https://localhost:8080/"
        },
        "id": "KrBsDfvHYV8P",
        "outputId": "6b271a8d-bc90-42a1-d038-011cf772de23"
      },
      "source": [
        "cd drive/MyDrive/Facebook-20210205T040830Z-001/Facebook"
      ],
      "execution_count": null,
      "outputs": [
        {
          "output_type": "stream",
          "text": [
            "[Errno 2] No such file or directory: 'drive/MyDrive/Facebook-20210205T040830Z-001/Facebook'\n",
            "/content/drive/My Drive/Facebook-20210205T040830Z-001/Facebook/data/after_eda\n"
          ],
          "name": "stdout"
        }
      ]
    },
    {
      "cell_type": "code",
      "metadata": {
        "colab": {
          "base_uri": "https://localhost:8080/"
        },
        "id": "nNX1HvzgYf24",
        "outputId": "5f5a6682-e258-4ae6-ec9d-1d6896ae356a"
      },
      "source": [
        "ls data/fea_sample"
      ],
      "execution_count": null,
      "outputs": [
        {
          "output_type": "stream",
          "text": [
            "hits.p  page_rank.p  storage_sample_stage1.h5  storage_sample_stage3.h5\n",
            "katz.p  p_rank.p     storage_sample_stage2.h5  storage_sample_stage4.h5\n"
          ],
          "name": "stdout"
        }
      ]
    },
    {
      "cell_type": "code",
      "metadata": {
        "colab": {
          "base_uri": "https://localhost:8080/"
        },
        "id": "s5seBI-dZSpY",
        "outputId": "5f4ec056-b413-4246-fa6f-99f37f9f46ac"
      },
      "source": [
        "ls"
      ],
      "execution_count": null,
      "outputs": [
        {
          "output_type": "stream",
          "text": [
            "\u001b[0m\u001b[01;34mdata\u001b[0m/         FB_featurization.ipynb  sample_sub_graph.pdf  woh_sample.csv\n",
            "FB_EDA.ipynb  FB_Models.ipynb         woh_sample\n"
          ],
          "name": "stdout"
        }
      ]
    },
    {
      "cell_type": "code",
      "metadata": {
        "id": "Fb8g_pfNYhlz"
      },
      "source": [
        "#reading\n",
        "from pandas import read_hdf\n",
        "df_final_train = read_hdf('data/fea_sample/storage_sample_stage4.h5', 'train_df',mode='r')\n",
        "df_final_test = read_hdf('data/fea_sample/storage_sample_stage4.h5', 'test_df',mode='r')"
      ],
      "execution_count": null,
      "outputs": []
    },
    {
      "cell_type": "code",
      "metadata": {
        "colab": {
          "base_uri": "https://localhost:8080/"
        },
        "id": "HXB2nF7Qwn0v",
        "outputId": "e2b68470-b31b-4824-f8f4-3a5eb7ca2320"
      },
      "source": [
        "df_final_train.columns"
      ],
      "execution_count": null,
      "outputs": [
        {
          "output_type": "execute_result",
          "data": {
            "text/plain": [
              "Index(['source_node', 'destination_node', 'indicator_link',\n",
              "       'jaccard_followers', 'jaccard_followees', 'cosine_followers',\n",
              "       'cosine_followees', 'num_followers_s', 'num_followees_s',\n",
              "       'num_followees_d', 'inter_followers', 'inter_followees', 'adar_index',\n",
              "       'follows_back', 'same_comp', 'shortest_path', 'weight_in', 'weight_out',\n",
              "       'weight_f1', 'weight_f2', 'weight_f3', 'weight_f4', 'page_rank_s',\n",
              "       'page_rank_d', 'katz_s', 'katz_d', 'hubs_s', 'hubs_d', 'authorities_s',\n",
              "       'authorities_d', 'svd_u_s_1', 'svd_u_s_2', 'svd_u_s_3', 'svd_u_s_4',\n",
              "       'svd_u_s_5', 'svd_u_s_6', 'svd_u_d_1', 'svd_u_d_2', 'svd_u_d_3',\n",
              "       'svd_u_d_4', 'svd_u_d_5', 'svd_u_d_6', 'svd_v_s_1', 'svd_v_s_2',\n",
              "       'svd_v_s_3', 'svd_v_s_4', 'svd_v_s_5', 'svd_v_s_6', 'svd_v_d_1',\n",
              "       'svd_v_d_2', 'svd_v_d_3', 'svd_v_d_4', 'svd_v_d_5', 'svd_v_d_6'],\n",
              "      dtype='object')"
            ]
          },
          "metadata": {
            "tags": []
          },
          "execution_count": 115
        }
      ]
    },
    {
      "cell_type": "code",
      "metadata": {
        "id": "PkbaSDsBB7sZ"
      },
      "source": [
        "y_train=df_final_train['indicator_link']\n",
        "df_final_train.drop(['indicator_link'],axis=1,inplace=True)\n",
        "\n",
        "y_test=df_final_test['indicator_link']\n",
        "\n",
        "df_final_test.drop(['indicator_link'],axis=1,inplace=True)"
      ],
      "execution_count": null,
      "outputs": []
    },
    {
      "cell_type": "code",
      "metadata": {
        "colab": {
          "base_uri": "https://localhost:8080/"
        },
        "id": "_QVGm4plCzD0",
        "outputId": "b6d188a8-110e-46ee-9067-7009b2b9ac67"
      },
      "source": [
        "df_final_test.columns"
      ],
      "execution_count": null,
      "outputs": [
        {
          "output_type": "execute_result",
          "data": {
            "text/plain": [
              "Index(['source_node', 'destination_node', 'jaccard_followers',\n",
              "       'jaccard_followees', 'cosine_followers', 'cosine_followees',\n",
              "       'num_followers_s', 'num_followees_s', 'num_followees_d',\n",
              "       'inter_followers', 'inter_followees', 'adar_index', 'follows_back',\n",
              "       'same_comp', 'shortest_path', 'weight_in', 'weight_out', 'weight_f1',\n",
              "       'weight_f2', 'weight_f3', 'weight_f4', 'page_rank_s', 'page_rank_d',\n",
              "       'katz_s', 'katz_d', 'hubs_s', 'hubs_d', 'authorities_s',\n",
              "       'authorities_d', 'svd_u_s_1', 'svd_u_s_2', 'svd_u_s_3', 'svd_u_s_4',\n",
              "       'svd_u_s_5', 'svd_u_s_6', 'svd_u_d_1', 'svd_u_d_2', 'svd_u_d_3',\n",
              "       'svd_u_d_4', 'svd_u_d_5', 'svd_u_d_6', 'svd_v_s_1', 'svd_v_s_2',\n",
              "       'svd_v_s_3', 'svd_v_s_4', 'svd_v_s_5', 'svd_v_s_6', 'svd_v_d_1',\n",
              "       'svd_v_d_2', 'svd_v_d_3', 'svd_v_d_4', 'svd_v_d_5', 'svd_v_d_6'],\n",
              "      dtype='object')"
            ]
          },
          "metadata": {
            "tags": []
          },
          "execution_count": 117
        }
      ]
    },
    {
      "cell_type": "code",
      "metadata": {
        "id": "r_Qaw915CaTI"
      },
      "source": [
        "df_final_train"
      ],
      "execution_count": null,
      "outputs": []
    },
    {
      "cell_type": "code",
      "metadata": {
        "id": "FCHKNhErw93u"
      },
      "source": [
        "nodes=df_final_train[['source_node','destination_node']].values"
      ],
      "execution_count": null,
      "outputs": []
    },
    {
      "cell_type": "code",
      "metadata": {
        "id": "JQ39zBUL3Fvk"
      },
      "source": [
        "test_nodes=df_final_test[['source_node','destination_node']].values"
      ],
      "execution_count": null,
      "outputs": []
    },
    {
      "cell_type": "code",
      "metadata": {
        "id": "ox639OVLxJ-E"
      },
      "source": [
        "import networkx as nx"
      ],
      "execution_count": null,
      "outputs": []
    },
    {
      "cell_type": "code",
      "metadata": {
        "id": "bNIaZF6hzksj"
      },
      "source": [
        "train_graph=nx.DiGraph()"
      ],
      "execution_count": null,
      "outputs": []
    },
    {
      "cell_type": "code",
      "metadata": {
        "id": "S5Ph0LFGzkpS"
      },
      "source": [
        "train_graph.add_edges_from(nodes)"
      ],
      "execution_count": null,
      "outputs": []
    },
    {
      "cell_type": "code",
      "metadata": {
        "id": "TVKA2vVtzkm1"
      },
      "source": [
        "preferential_list=[]\n",
        "for each in nodes:\n",
        "  p=train_graph.out_degree(each[0])*train_graph.out_degree(each[1])\n",
        "  preferential_list.append(p)\n"
      ],
      "execution_count": null,
      "outputs": []
    },
    {
      "cell_type": "code",
      "metadata": {
        "id": "8goMz7tc25zV"
      },
      "source": [
        "test_graph=nx.DiGraph()\n",
        "test_graph.add_edges_from(test_nodes)\n",
        "\n",
        "preferential_test_list=[]\n",
        "for each in test_nodes:\n",
        "  p=test_graph.out_degree(each[0])*test_graph.out_degree(each[1])\n",
        "  preferential_test_list.append(p)\n"
      ],
      "execution_count": null,
      "outputs": []
    },
    {
      "cell_type": "code",
      "metadata": {
        "colab": {
          "base_uri": "https://localhost:8080/"
        },
        "id": "KMPSHS4J3mFE",
        "outputId": "dcb57836-8226-4190-f64a-6c71d6735a43"
      },
      "source": [
        "len(preferential_test_list)"
      ],
      "execution_count": null,
      "outputs": [
        {
          "output_type": "execute_result",
          "data": {
            "text/plain": [
              "50002"
            ]
          },
          "metadata": {
            "tags": []
          },
          "execution_count": 125
        }
      ]
    },
    {
      "cell_type": "code",
      "metadata": {
        "colab": {
          "base_uri": "https://localhost:8080/"
        },
        "id": "PVcy6yDA4bRL",
        "outputId": "d661759c-2fde-41c8-917d-d11f2c5b6232"
      },
      "source": [
        "df_final_train.columns"
      ],
      "execution_count": null,
      "outputs": [
        {
          "output_type": "execute_result",
          "data": {
            "text/plain": [
              "Index(['source_node', 'destination_node', 'jaccard_followers',\n",
              "       'jaccard_followees', 'cosine_followers', 'cosine_followees',\n",
              "       'num_followers_s', 'num_followees_s', 'num_followees_d',\n",
              "       'inter_followers', 'inter_followees', 'adar_index', 'follows_back',\n",
              "       'same_comp', 'shortest_path', 'weight_in', 'weight_out', 'weight_f1',\n",
              "       'weight_f2', 'weight_f3', 'weight_f4', 'page_rank_s', 'page_rank_d',\n",
              "       'katz_s', 'katz_d', 'hubs_s', 'hubs_d', 'authorities_s',\n",
              "       'authorities_d', 'svd_u_s_1', 'svd_u_s_2', 'svd_u_s_3', 'svd_u_s_4',\n",
              "       'svd_u_s_5', 'svd_u_s_6', 'svd_u_d_1', 'svd_u_d_2', 'svd_u_d_3',\n",
              "       'svd_u_d_4', 'svd_u_d_5', 'svd_u_d_6', 'svd_v_s_1', 'svd_v_s_2',\n",
              "       'svd_v_s_3', 'svd_v_s_4', 'svd_v_s_5', 'svd_v_s_6', 'svd_v_d_1',\n",
              "       'svd_v_d_2', 'svd_v_d_3', 'svd_v_d_4', 'svd_v_d_5', 'svd_v_d_6'],\n",
              "      dtype='object')"
            ]
          },
          "metadata": {
            "tags": []
          },
          "execution_count": 126
        }
      ]
    },
    {
      "cell_type": "code",
      "metadata": {
        "id": "1GqQr59BzkiT"
      },
      "source": [
        "#calculating svd_dot\n",
        "\n",
        "\n",
        "svd_u_s=df_final_train[['svd_u_s_1', 'svd_u_s_2', 'svd_u_s_3', 'svd_u_s_4','svd_u_s_5', 'svd_u_s_6']].values\n",
        "svd_u_d=df_final_train[['svd_u_d_1', 'svd_u_d_2', 'svd_u_d_3',\n",
        "       'svd_u_d_4', 'svd_u_d_5', 'svd_u_d_6']].values\n",
        "\n",
        "svd_v_s=df_final_train[['svd_v_s_1', 'svd_v_s_2',\n",
        "       'svd_v_s_3', 'svd_v_s_4', 'svd_v_s_5', 'svd_v_s_6']].values\n",
        "\n",
        "svd_v_d=df_final_train[[ 'svd_v_d_1',\n",
        "       'svd_v_d_2', 'svd_v_d_3', 'svd_v_d_4', 'svd_v_d_5', 'svd_v_d_6']].values"
      ],
      "execution_count": null,
      "outputs": []
    },
    {
      "cell_type": "code",
      "metadata": {
        "colab": {
          "base_uri": "https://localhost:8080/"
        },
        "id": "Qalrqnzf7MrF",
        "outputId": "d45dacb4-bea4-4297-e870-d7bd019cc917"
      },
      "source": [
        "svd_u_d.shape"
      ],
      "execution_count": null,
      "outputs": [
        {
          "output_type": "execute_result",
          "data": {
            "text/plain": [
              "(100002, 6)"
            ]
          },
          "metadata": {
            "tags": []
          },
          "execution_count": 128
        }
      ]
    },
    {
      "cell_type": "code",
      "metadata": {
        "id": "uxFsMNNH5o7C"
      },
      "source": [
        "svd_u_dot=[]\n",
        "\n",
        "for s,d in zip(svd_u_s,svd_u_d):\n",
        "  svd_u_dot.append(np.dot(s,d))\n",
        "\n",
        "\n",
        "svd_v_dot=[]\n",
        "\n",
        "\n",
        "for s,d in zip(svd_v_s,svd_v_d):\n",
        "  svd_v_dot.append(np.dot(s,d))\n",
        "\n"
      ],
      "execution_count": null,
      "outputs": []
    },
    {
      "cell_type": "code",
      "metadata": {
        "colab": {
          "base_uri": "https://localhost:8080/"
        },
        "id": "TTQplBOs8r0Z",
        "outputId": "b68ebb6c-76ec-4d65-8a72-dd58638dd90a"
      },
      "source": [
        "len(svd_u_dot)"
      ],
      "execution_count": null,
      "outputs": [
        {
          "output_type": "execute_result",
          "data": {
            "text/plain": [
              "100002"
            ]
          },
          "metadata": {
            "tags": []
          },
          "execution_count": 130
        }
      ]
    },
    {
      "cell_type": "code",
      "metadata": {
        "id": "SIRMHblC8W-I"
      },
      "source": [
        "svd_u_dot"
      ],
      "execution_count": null,
      "outputs": []
    },
    {
      "cell_type": "markdown",
      "metadata": {
        "id": "X7rv9HDw9SS2"
      },
      "source": [
        "svd_dot for The test_data"
      ]
    },
    {
      "cell_type": "code",
      "metadata": {
        "id": "u1lTZhfr9R6h"
      },
      "source": [
        ""
      ],
      "execution_count": null,
      "outputs": []
    },
    {
      "cell_type": "code",
      "metadata": {
        "id": "JL3CE5wS9XLt"
      },
      "source": [
        "#calculating svd_dot\n",
        "\n",
        "\n",
        "svd_u_s_test=df_final_test[['svd_u_s_1', 'svd_u_s_2', 'svd_u_s_3', 'svd_u_s_4','svd_u_s_5', 'svd_u_s_6']].values\n",
        "svd_u_d_test=df_final_test[['svd_u_d_1', 'svd_u_d_2', 'svd_u_d_3',\n",
        "       'svd_u_d_4', 'svd_u_d_5', 'svd_u_d_6']].values\n",
        "\n",
        "svd_v_s_test=df_final_test[['svd_v_s_1', 'svd_v_s_2',\n",
        "       'svd_v_s_3', 'svd_v_s_4', 'svd_v_s_5', 'svd_v_s_6']].values\n",
        "\n",
        "svd_v_d_test=df_final_test[[ 'svd_v_d_1',\n",
        "       'svd_v_d_2', 'svd_v_d_3', 'svd_v_d_4', 'svd_v_d_5', 'svd_v_d_6']].values"
      ],
      "execution_count": null,
      "outputs": []
    },
    {
      "cell_type": "code",
      "metadata": {
        "id": "8nN-1kEn9XL_"
      },
      "source": [
        "svd_u_dot_test=[]\n",
        "\n",
        "for s,d in zip(svd_u_s_test,svd_u_d_test):\n",
        "  svd_u_dot_test.append(np.dot(s,d))\n",
        "\n",
        "\n",
        "svd_v_dot_test=[]\n",
        "\n",
        "\n",
        "for s,d in zip(svd_v_s_test,svd_v_d_test):\n",
        "  svd_v_dot_test.append(np.dot(s,d))\n",
        "\n"
      ],
      "execution_count": null,
      "outputs": []
    },
    {
      "cell_type": "code",
      "metadata": {
        "colab": {
          "base_uri": "https://localhost:8080/"
        },
        "id": "Hxeu5Maa_Dfg",
        "outputId": "3de5bb7f-afa8-4a31-f431-30e8bc4d55d2"
      },
      "source": [
        "len(svd_u_dot)"
      ],
      "execution_count": null,
      "outputs": [
        {
          "output_type": "execute_result",
          "data": {
            "text/plain": [
              "100002"
            ]
          },
          "metadata": {
            "tags": []
          },
          "execution_count": 134
        }
      ]
    },
    {
      "cell_type": "code",
      "metadata": {
        "id": "JcORXylt-kHD"
      },
      "source": [
        "d={\n",
        "    'preferential_attachment':preferential_list,\n",
        "   'svd_u_dot':svd_u_dot,\n",
        "   'svd_v_dot':svd_v_dot\n",
        "}"
      ],
      "execution_count": null,
      "outputs": []
    },
    {
      "cell_type": "code",
      "metadata": {
        "id": "8jdg0PnWzkeI"
      },
      "source": [
        "train_extra=pd.DataFrame(data=d)"
      ],
      "execution_count": null,
      "outputs": []
    },
    {
      "cell_type": "code",
      "metadata": {
        "id": "6y_OJ7Nvzkaj"
      },
      "source": [
        "d={\n",
        "    'preferential_attachment':preferential_test_list,\n",
        "   'svd_u_dot':svd_u_dot_test,\n",
        "   'svd_v_dot':svd_v_dot_test\n",
        "}"
      ],
      "execution_count": null,
      "outputs": []
    },
    {
      "cell_type": "code",
      "metadata": {
        "id": "3k8VbiAbAS8r"
      },
      "source": [
        "test_extra=pd.DataFrame(data=d)"
      ],
      "execution_count": null,
      "outputs": []
    },
    {
      "cell_type": "code",
      "metadata": {
        "colab": {
          "base_uri": "https://localhost:8080/"
        },
        "id": "cuWCgqAGAVc6",
        "outputId": "aa0fd4d3-4b93-4083-b8a2-c427708e90de"
      },
      "source": [
        "test_extra.columns"
      ],
      "execution_count": null,
      "outputs": [
        {
          "output_type": "execute_result",
          "data": {
            "text/plain": [
              "Index(['preferential_attachment', 'svd_u_dot', 'svd_v_dot'], dtype='object')"
            ]
          },
          "metadata": {
            "tags": []
          },
          "execution_count": 139
        }
      ]
    },
    {
      "cell_type": "code",
      "metadata": {
        "id": "NWVAOm9PAfur"
      },
      "source": [
        "final_train=pd.concat([df_final_train,train_extra],axis=1)\n",
        "final_test=pd.concat([df_final_test,test_extra],axis=1)"
      ],
      "execution_count": null,
      "outputs": []
    },
    {
      "cell_type": "code",
      "metadata": {
        "colab": {
          "base_uri": "https://localhost:8080/"
        },
        "id": "MX22HNDfBdZN",
        "outputId": "f3f21ba8-ad04-4c0e-d3af-01a044d24389"
      },
      "source": [
        "final_train.columns"
      ],
      "execution_count": null,
      "outputs": [
        {
          "output_type": "execute_result",
          "data": {
            "text/plain": [
              "Index(['source_node', 'destination_node', 'jaccard_followers',\n",
              "       'jaccard_followees', 'cosine_followers', 'cosine_followees',\n",
              "       'num_followers_s', 'num_followees_s', 'num_followees_d',\n",
              "       'inter_followers', 'inter_followees', 'adar_index', 'follows_back',\n",
              "       'same_comp', 'shortest_path', 'weight_in', 'weight_out', 'weight_f1',\n",
              "       'weight_f2', 'weight_f3', 'weight_f4', 'page_rank_s', 'page_rank_d',\n",
              "       'katz_s', 'katz_d', 'hubs_s', 'hubs_d', 'authorities_s',\n",
              "       'authorities_d', 'svd_u_s_1', 'svd_u_s_2', 'svd_u_s_3', 'svd_u_s_4',\n",
              "       'svd_u_s_5', 'svd_u_s_6', 'svd_u_d_1', 'svd_u_d_2', 'svd_u_d_3',\n",
              "       'svd_u_d_4', 'svd_u_d_5', 'svd_u_d_6', 'svd_v_s_1', 'svd_v_s_2',\n",
              "       'svd_v_s_3', 'svd_v_s_4', 'svd_v_s_5', 'svd_v_s_6', 'svd_v_d_1',\n",
              "       'svd_v_d_2', 'svd_v_d_3', 'svd_v_d_4', 'svd_v_d_5', 'svd_v_d_6',\n",
              "       'preferential_attachment', 'svd_u_dot', 'svd_v_dot'],\n",
              "      dtype='object')"
            ]
          },
          "metadata": {
            "tags": []
          },
          "execution_count": 146
        }
      ]
    },
    {
      "cell_type": "code",
      "metadata": {
        "id": "2POyTvg7A9f5"
      },
      "source": [
        "final_train.drop(['source_node', 'destination_node'],axis=1,inplace=True)\n",
        "final_test.drop(['source_node', 'destination_node'],axis=1,inplace=True)"
      ],
      "execution_count": null,
      "outputs": []
    },
    {
      "cell_type": "code",
      "metadata": {
        "colab": {
          "base_uri": "https://localhost:8080/"
        },
        "id": "Dte9RujIAs3Y",
        "outputId": "774aa9c8-7d19-4b27-b714-992e091d5ae7"
      },
      "source": [
        "final_train.shape"
      ],
      "execution_count": null,
      "outputs": [
        {
          "output_type": "execute_result",
          "data": {
            "text/plain": [
              "(100002, 54)"
            ]
          },
          "metadata": {
            "tags": []
          },
          "execution_count": 148
        }
      ]
    },
    {
      "cell_type": "code",
      "metadata": {
        "id": "q2UCpvTtE8tg"
      },
      "source": [
        "from xgboost import XGBClassifier"
      ],
      "execution_count": null,
      "outputs": []
    },
    {
      "cell_type": "code",
      "metadata": {
        "id": "_fxljFvNKIQY"
      },
      "source": [
        ""
      ],
      "execution_count": null,
      "outputs": []
    },
    {
      "cell_type": "code",
      "metadata": {
        "id": "YPWRNnk1WPV8"
      },
      "source": [
        "#definig the parameters\n",
        "\n",
        "learning_rate = [0.0001, 0.001, 0.01, 0.1, 0.2, 0.3] \n",
        "\n",
        "max_depth=range(3,10,2)"
      ],
      "execution_count": null,
      "outputs": []
    },
    {
      "cell_type": "code",
      "metadata": {
        "id": "16eqEejaXb7I"
      },
      "source": [
        "from sklearn.metrics import f1_score"
      ],
      "execution_count": null,
      "outputs": []
    },
    {
      "cell_type": "code",
      "metadata": {
        "id": "Qul_OfvYWG_h"
      },
      "source": [
        "\n",
        "train_scores = []\n",
        "test_scores = []\n",
        "for i in learning_rate:\n",
        "\n",
        "  for d in max_depth:\n",
        "\n",
        "\n",
        "    clf=XGBClassifier(learning_rate=i,max_depth=d)\n",
        "    \n",
        "    clf.fit(df_final_train,y_train)\n",
        "    train_sc = f1_score(y_train,clf.predict(df_final_train))\n",
        "    test_sc = f1_score(y_test,clf.predict(df_final_test))\n",
        "    test_scores.append(test_sc)\n",
        "    train_scores.append(train_sc)\n",
        "    print('Estimators = ',i,'Train Score',train_sc,'test Score',test_sc)\n"
      ],
      "execution_count": null,
      "outputs": []
    },
    {
      "cell_type": "code",
      "metadata": {
        "id": "jm_Mf3R_dDUa"
      },
      "source": [
        "train_scores=np.array(train_scores).reshape(6,4)"
      ],
      "execution_count": null,
      "outputs": []
    },
    {
      "cell_type": "code",
      "metadata": {
        "colab": {
          "base_uri": "https://localhost:8080/",
          "height": 296
        },
        "id": "qaPIsVjEdXfv",
        "outputId": "e3a099d8-179f-4756-dd84-de0302b1efde"
      },
      "source": [
        "sns.heatmap(train_scores,xticklabels=max_depth,yticklabels=learning_rate,annot=True)\n",
        "plt.xlabel(\"Max Depth\")\n",
        "plt.ylabel(\"Learning Rate\")"
      ],
      "execution_count": null,
      "outputs": [
        {
          "output_type": "execute_result",
          "data": {
            "text/plain": [
              "Text(33.0, 0.5, 'Learning Rate')"
            ]
          },
          "metadata": {
            "tags": []
          },
          "execution_count": 210
        },
        {
          "output_type": "display_data",
          "data": {
            "image/png": "[encoded data removed]",
            "text/plain": [
              "<Figure size 432x288 with 2 Axes>"
            ]
          },
          "metadata": {
            "tags": [],
            "needs_background": "light"
          }
        }
      ]
    },
    {
      "cell_type": "code",
      "metadata": {
        "id": "5xzwY4lheKP8"
      },
      "source": [
        "test_scores=np.array(test_scores).reshape(6,4)"
      ],
      "execution_count": null,
      "outputs": []
    },
    {
      "cell_type": "code",
      "metadata": {
        "colab": {
          "base_uri": "https://localhost:8080/",
          "height": 296
        },
        "id": "074zTUhyeDNf",
        "outputId": "32e9f806-f987-415b-ac72-d01b35ceb1cc"
      },
      "source": [
        "data=sns.heatmap(test_scores,xticklabels=max_depth,yticklabels=learning_rate,annot=True)\n",
        "plt.xlabel(\"Max Depth\")\n",
        "plt.ylabel(\"Learning Rate\")"
      ],
      "execution_count": null,
      "outputs": [
        {
          "output_type": "execute_result",
          "data": {
            "text/plain": [
              "Text(33.0, 0.5, 'Learning Rate')"
            ]
          },
          "metadata": {
            "tags": []
          },
          "execution_count": 209
        },
        {
          "output_type": "display_data",
          "data": {
            "image/png": "[encoded data removed]",
            "text/plain": [
              "<Figure size 432x288 with 2 Axes>"
            ]
          },
          "metadata": {
            "tags": [],
            "needs_background": "light"
          }
        }
      ]
    },
    {
      "cell_type": "code",
      "metadata": {
        "id": "AM_rhZj6gu9E"
      },
      "source": [
        ""
      ],
      "execution_count": null,
      "outputs": []
    },
    {
      "cell_type": "code",
      "metadata": {
        "colab": {
          "base_uri": "https://localhost:8080/"
        },
        "id": "Q0CrYLAVd1xD",
        "outputId": "67fa70fd-189a-4137-a34b-ddef3264c95e"
      },
      "source": [
        "g_model=XGBClassifier(max_depth=9,learning_rate=0.01)\n",
        "\n",
        "g_model.fit(final_train ,y_train)"
      ],
      "execution_count": null,
      "outputs": [
        {
          "output_type": "execute_result",
          "data": {
            "text/plain": [
              "XGBClassifier(base_score=0.5, booster='gbtree', colsample_bylevel=1,\n",
              "              colsample_bynode=1, colsample_bytree=1, gamma=0,\n",
              "              learning_rate=0.01, max_delta_step=0, max_depth=9,\n",
              "              min_child_weight=1, missing=None, n_estimators=100, n_jobs=1,\n",
              "              nthread=None, objective='binary:logistic', random_state=0,\n",
              "              reg_alpha=0, reg_lambda=1, scale_pos_weight=1, seed=None,\n",
              "              silent=None, subsample=1, verbosity=1)"
            ]
          },
          "metadata": {
            "tags": []
          },
          "execution_count": 199
        }
      ]
    },
    {
      "cell_type": "code",
      "metadata": {
        "id": "_dH5pfWoWGND"
      },
      "source": [
        ""
      ],
      "execution_count": null,
      "outputs": []
    },
    {
      "cell_type": "code",
      "metadata": {
        "colab": {
          "base_uri": "https://localhost:8080/"
        },
        "id": "iiVJV6WeQz3Z",
        "outputId": "e3c01bdd-f441-44fd-9517-0255e5db9117"
      },
      "source": [
        "test_predict=g_model.predict(final_test)\n",
        "\n",
        "#print('Mean Test score',g_model.cv_results_['mean_test_score'])\n",
        "# print('Mean Train score',g_model.cv_results_[''])\n",
        "print(accuracy_score(y_test,test_predict))"
      ],
      "execution_count": null,
      "outputs": [
        {
          "output_type": "stream",
          "text": [
            "0.9385424583016679\n"
          ],
          "name": "stdout"
        }
      ]
    },
    {
      "cell_type": "code",
      "metadata": {
        "id": "q93Rz99DhZig"
      },
      "source": [
        ""
      ],
      "execution_count": null,
      "outputs": []
    },
    {
      "cell_type": "code",
      "metadata": {
        "id": "aWMWrWx2Ugoc"
      },
      "source": [
        "train_predict=g_model.predict(final_train)"
      ],
      "execution_count": null,
      "outputs": []
    },
    {
      "cell_type": "code",
      "metadata": {
        "colab": {
          "base_uri": "https://localhost:8080/"
        },
        "id": "wWUiYo7DhkXv",
        "outputId": "74b297d2-0ed3-4b07-e16c-8b3bba4219b7"
      },
      "source": [
        "print(accuracy_score(y_test,test_predict))"
      ],
      "execution_count": null,
      "outputs": [
        {
          "output_type": "stream",
          "text": [
            "0.9385424583016679\n"
          ],
          "name": "stdout"
        }
      ]
    },
    {
      "cell_type": "code",
      "metadata": {
        "id": "DR-UP49hUSmf"
      },
      "source": [
        "import matplotlib.pyplot as plt\n",
        "\n",
        "import seaborn as sns"
      ],
      "execution_count": null,
      "outputs": []
    },
    {
      "cell_type": "code",
      "metadata": {
        "id": "B_yb2tthULwS"
      },
      "source": [
        "from sklearn.metrics import confusion_matrix\n",
        "def plot_confusion_matrix(test_y, predict_y):\n",
        "    C = confusion_matrix(test_y, predict_y)\n",
        "    \n",
        "    A =(((C.T)/(C.sum(axis=1))).T)\n",
        "    \n",
        "    B =(C/C.sum(axis=0))\n",
        "    plt.figure(figsize=(20,4))\n",
        "    \n",
        "    labels = [0,1]\n",
        "    # representing A in heatmap format\n",
        "    cmap=sns.light_palette(\"blue\")\n",
        "    plt.subplot(1, 3, 1)\n",
        "    sns.heatmap(C, annot=True, cmap=cmap, fmt=\".3f\", xticklabels=labels, yticklabels=labels)\n",
        "    plt.xlabel('Predicted Class')\n",
        "    plt.ylabel('Original Class')\n",
        "    plt.title(\"Confusion matrix\")\n",
        "    \n",
        "    plt.subplot(1, 3, 2)\n",
        "    sns.heatmap(B, annot=True, cmap=cmap, fmt=\".3f\", xticklabels=labels, yticklabels=labels)\n",
        "    plt.xlabel('Predicted Class')\n",
        "    plt.ylabel('Original Class')\n",
        "    plt.title(\"Precision matrix\")\n",
        "    \n",
        "    plt.subplot(1, 3, 3)\n",
        "    # representing B in heatmap format\n",
        "    sns.heatmap(A, annot=True, cmap=cmap, fmt=\".3f\", xticklabels=labels, yticklabels=labels)\n",
        "    plt.xlabel('Predicted Class')\n",
        "    plt.ylabel('Original Class')\n",
        "    plt.title(\"Recall matrix\")\n",
        "    \n",
        "    plt.show()"
      ],
      "execution_count": null,
      "outputs": []
    },
    {
      "cell_type": "code",
      "metadata": {
        "colab": {
          "base_uri": "https://localhost:8080/",
          "height": 607
        },
        "id": "EOxz-WLDUQqr",
        "outputId": "9eefbf02-1011-4019-9314-68983dfcb5e9"
      },
      "source": [
        "print('Train confusion_matrix')\n",
        "plot_confusion_matrix(y_train,train_predict)\n",
        "print('Test confusion_matrix')\n",
        "plot_confusion_matrix(y_test,test_predict)"
      ],
      "execution_count": null,
      "outputs": [
        {
          "output_type": "stream",
          "text": [
            "Train confusion_matrix\n"
          ],
          "name": "stdout"
        },
        {
          "output_type": "display_data",
          "data": {
            "image/png": "[encoded data removed]",
            "text/plain": [
              "<Figure size 1440x288 with 6 Axes>"
            ]
          },
          "metadata": {
            "tags": [],
            "needs_background": "light"
          }
        },
        {
          "output_type": "stream",
          "text": [
            "Test confusion_matrix\n"
          ],
          "name": "stdout"
        },
        {
          "output_type": "display_data",
          "data": {
            "image/png": "[encoded data removed]",
            "text/plain": [
              "<Figure size 1440x288 with 6 Axes>"
            ]
          },
          "metadata": {
            "tags": [],
            "needs_background": "light"
          }
        }
      ]
    },
    {
      "cell_type": "code",
      "metadata": {
        "id": "kSKZo1hSf1Gp"
      },
      "source": [
        ""
      ],
      "execution_count": null,
      "outputs": []
    }
  ]
}